{
 "cells": [
  {
   "cell_type": "markdown",
   "metadata": {},
   "source": [
    "# Parte 2 - Pregunta Práctica"
   ]
  },
  {
   "cell_type": "markdown",
   "metadata": {},
   "source": [
    "Marco Jurado 20308\n",
    "\n",
    "Cristian Aguirre 20231"
   ]
  },
  {
   "cell_type": "code",
   "execution_count": 1,
   "metadata": {},
   "outputs": [],
   "source": [
    "import numpy as np\n",
    "\n",
    "np.random.seed(2023)\n",
    "\n",
    "# Parámetros de simulación\n",
    "num_simulations = 1000\n",
    "initial_investment = 1000000\n",
    "investment_horizon = 5\n",
    "discount_rate = 0.1\n",
    "\n",
    "# Función de simulación actualizada\n",
    "def simulate_cash_flows(params):\n",
    "    interest_rate, volatility = params\n",
    "    \n",
    "    num_steps = investment_horizon * 252\n",
    "    simulated_returns = np.random.normal((interest_rate - 0.5 * volatility**2) / 252, volatility / np.sqrt(252), (num_steps, num_simulations))\n",
    "    simulated_prices = initial_investment * np.exp(np.cumsum(simulated_returns, axis=0))\n",
    "    \n",
    "    final_prices = simulated_prices[-1, :]\n",
    "    capital_gains_losses = final_prices - initial_investment\n",
    "    \n",
    "    # Descuento de los flujos de caja futuros\n",
    "    npv = np.mean(capital_gains_losses) / (1 + discount_rate) ** investment_horizon\n",
    "    \n",
    "    return npv"
   ]
  },
  {
   "cell_type": "code",
   "execution_count": 2,
   "metadata": {},
   "outputs": [
    {
     "name": "stderr",
     "output_type": "stream",
     "text": [
      "C:\\Users\\Cristian Aguirre\\AppData\\Local\\Temp\\ipykernel_17004\\2627522313.py:13: DeprecationWarning: `salib.sample.saltelli` will be removed in SALib 1.5. Please use `salib.sample.sobol`\n",
      "  param_values = saltelli.sample(problem, 1000)\n",
      "c:\\Users\\Cristian Aguirre\\AppData\\Local\\Programs\\Python\\Python310\\lib\\site-packages\\SALib\\sample\\saltelli.py:109: UserWarning: \n",
      "        Convergence properties of the Sobol' sequence is only valid if\n",
      "        `N` (1000) is equal to `2^n`.\n",
      "        \n",
      "  warnings.warn(msg)\n"
     ]
    }
   ],
   "source": [
    "from SALib.sample import saltelli\n",
    "from SALib.analyze import sobol\n",
    "import matplotlib.pyplot as plt\n",
    "\n",
    "# Definir el problema para SALib\n",
    "problem = {\n",
    "    'num_vars': 2,\n",
    "    'names': ['interest_rate', 'volatility'],\n",
    "    'bounds': [[0.08, 0.12], [0.15, 0.25]]\n",
    "}\n",
    "\n",
    "# Generar muestras\n",
    "param_values = saltelli.sample(problem, 1000)\n",
    "\n",
    "# Evaluar modelo\n",
    "Y = np.array([simulate_cash_flows(params) for params in param_values])\n",
    "\n",
    "# Calcular índices Sobol\n",
    "Si = sobol.analyze(problem, Y)"
   ]
  },
  {
   "cell_type": "code",
   "execution_count": 7,
   "metadata": {},
   "outputs": [
    {
     "name": "stdout",
     "output_type": "stream",
     "text": [
      "Tasa de interés: 99.34%\n",
      "Volatilidad: 6.03%\n"
     ]
    }
   ],
   "source": [
    "print(f\"Tasa de interés: {round(Si['ST'][0] * 100,2)}%\")\n",
    "print(f\"Volatilidad: {round(Si['ST'][1] * 100,2)}%\")"
   ]
  },
  {
   "cell_type": "code",
   "execution_count": 3,
   "metadata": {},
   "outputs": [
    {
     "data": {
      "image/png": "[encoded data removed]",
      "text/plain": [
       "<Figure size 640x480 with 1 Axes>"
      ]
     },
     "metadata": {},
     "output_type": "display_data"
    }
   ],
   "source": [
    "# Visualización\n",
    "plt.bar(range(2), [Si['ST'][0], Si['ST'][1]], yerr=[Si['ST_conf'][0], Si['ST_conf'][1]], align='center', alpha=0.7, ecolor='black', capsize=10)\n",
    "plt.xticks(range(2), ['Interest Rate', 'Volatility'])\n",
    "plt.ylabel('Total-order Sensitivity Index')\n",
    "plt.title('Sobol Sensitivity Analysis')\n",
    "plt.show()"
   ]
  },
  {
   "cell_type": "markdown",
   "metadata": {},
   "source": [
    "Prompt utilizado para integrar un análisis de sensibilidad global utilizando indices sobol\n",
    "\n",
    "https://chat.openai.com/share/445c862d-2165-4f7e-a2b7-adb5e17df7e7\n",
    "\n",
    "NOTA: Se tuvieron que hacer modificaciones para integrarlo con nuestra simulación"
   ]
  },
  {
   "cell_type": "markdown",
   "metadata": {},
   "source": [
    "**1. ¿Qué tanto influye cada variable en el VPN?**\n",
    "\n",
    "De acuerdo con los resultados mostrados en la gráfica podemos ver que la tasa de interés está influyendo en un 99.34% de la varianza del VAN y la volatilidad en un 6.03%. \n",
    "\n",
    "**2. ¿Qué variable influye más? ¿Por qué cree que es esto?**\n",
    "\n",
    "Como se mencionó anteriormente, la variable que más influye y por una gran diferencia, es la tasa de interés y llegamos a la conclusión de que esto se debe a la forma en que la tasa de interés afecta directamente al descuento de los flujos de caja en el cálculo del VAN. Un cambio en la tasa de interés tiene un impacto directo en el valor presente de los flujos de caja futuros, mientras que la volatilidad, que afecta la dispersión de los flujos de efectivo, podría tener un impacto menos directo en el VAN.\n",
    "\n",
    "**3. ¿Hay una diferencia significativa en la influencia de cada variable? ¿Por qué?**\n",
    "\n",
    "Sí, si hay una diferencia significativa en la influencia las variables ya que como podemos ver en el análisis de sensibilidad, la tasa de interés influye muchisimo más de lo que lo hace la volatilidad. Como se mencionó en el enunciado anterior, esto se puede deber a la forma en la que se está calculando el VPN pues la tasa de interés afecta en el descuento del flujo de caja de manera directa. \n",
    "\n",
    "**4. Si tuviera que hacer mejoras al análisis ¿qué podría hacer?**\n",
    "\n",
    "Prompt: *https://chat.openai.com/share/ce62833f-161a-410e-a9e0-eba3a9014866*\n",
    "\n",
    "Las mejoras que se le puedan hacer a un modelo depende mucho de lo que queremos conseguir y los resultados que queremos obtener, para este caso práctico considero que el modelo cumple satisfactoriamente con los requerimentos que necesitabamos y obtuvimos buenos resultados, sin embargo siempre podemos mejorar algunos aspectos, como los siguientes.\n",
    "\n",
    "- Analizar Interacciones: Considera calcular los índices de Sobol de segundo orden para estudiar cómo combinaciones de variables, como tasa de interés y volatilidad, influyen conjuntamente en el VAN.\n",
    "\n",
    "- Mayor Número de Simulaciones: Aumentar las simulaciones puede ofrecer estimaciones más precisas de los índices, especialmente en sistemas con alta complejidad.\n",
    "\n",
    "- Convergencia de Índices: Realiza un análisis de convergencia para asegurarte de que la cantidad de muestras es adecuada y que los índices de Sobol están estabilizándose.\n",
    "\n",
    "- Análisis de Sensibilidad Local: Además del enfoque global, evalúa cómo pequeñas variaciones en las entradas cerca de puntos específicos afectan el VAN, para un entendimiento más detallado.\n",
    "\n",
    "- Validación del Modelo: Es vital asegurarse de que tu modelo refleja adecuadamente la realidad y las dinámicas de los flujos de efectivo y del VAN."
   ]
  }
 ],
 "metadata": {
  "kernelspec": {
   "display_name": "Python 3",
   "language": "python",
   "name": "python3"
  },
  "language_info": {
   "codemirror_mode": {
    "name": "ipython",
    "version": 3
   },
   "file_extension": ".py",
   "mimetype": "text/x-python",
   "name": "python",
   "nbconvert_exporter": "python",
   "pygments_lexer": "ipython3",
   "version": "3.10.9"
  },
  "orig_nbformat": 4
 },
 "nbformat": 4,
 "nbformat_minor": 2
}
